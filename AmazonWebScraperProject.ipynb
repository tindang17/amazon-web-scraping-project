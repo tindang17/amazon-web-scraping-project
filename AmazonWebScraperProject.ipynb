{
 "cells": [
  {
   "cell_type": "code",
   "execution_count": 1,
   "id": "d6e0b505",
   "metadata": {},
   "outputs": [],
   "source": [
    "# import libraries\n",
    "\n",
    "from bs4 import BeautifulSoup\n",
    "import requests\n",
    "import time\n",
    "import datetime\n",
    "\n",
    "import smtplib"
   ]
  },
  {
   "cell_type": "code",
   "execution_count": 4,
   "id": "a4366c23",
   "metadata": {},
   "outputs": [],
   "source": [
    "URL = 'https://www.amazon.ca/Apple-AirPods-Charging-Latest-Model/dp/B07PXGQC1Q/ref=zg_bs_680468011_3/133-5835539-1955852?pd_rd_i=B07PXGQC1Q&psc=1'\n",
    "\n",
    "headers = {\n",
    "'authority': 'www.amazon.ca',\n",
    "'pragma': 'no-cache',\n",
    "'cache-control': 'no-cache',\n",
    "'dnt': '1',\n",
    "'upgrade-insecure-requests': '1',\n",
    "'user-agent': 'User-Agent\": \"Mozilla/5.0 (Macintosh; Intel Mac OS X 10_15_7) AppleWebKit/605.1.15 (KHTML, like Gecko) Version/15.5 Safari/605.1.15',\n",
    "'accept': 'text/html,application/xhtml+xml,application/xml;q=0.9,image/webp,image/apng,*/*;q=0.8,application/signed-exchange;v=b3;q=0.9',\n",
    "'sec-fetch-site': 'none',\n",
    "'sec-fetch-mode': 'navigate',\n",
    "'sec-fetch-dest': 'document',\n",
    "'accept-language': 'en-GB,en-US;q=0.9,en;q=0.8',\n",
    "}\n",
    "\n",
    "page = requests.get(URL, headers=headers)\n",
    "\n",
    "soup1 = BeautifulSoup(page.content, 'html.parser')\n",
    "soup2 = BeautifulSoup(soup1.prettify(), 'html.parser')\n",
    "title = soup2.find(id='productTitle').get_text().strip()\n",
    "price = float(soup2.find(attrs={\"class\": \"a-price-whole\"}).get_text().replace('.', '').strip())"
   ]
  },
  {
   "cell_type": "code",
   "execution_count": 6,
   "id": "296de404",
   "metadata": {},
   "outputs": [],
   "source": [
    "today = datetime.date.today()\n",
    "# CSV\n",
    "import csv\n",
    "\n",
    "header = ['Title', 'Price', 'Date']\n",
    "data = [title, price, today]\n",
    "\n",
    "with open('amazonwebscraper.csv', 'w', newline='', encoding='UTF8') as f:\n",
    "    writer = csv.writer(f)\n",
    "    writer.writerow(header)\n",
    "    writer.writerow(data)"
   ]
  },
  {
   "cell_type": "code",
   "execution_count": 8,
   "id": "afbedbc9",
   "metadata": {},
   "outputs": [],
   "source": [
    "def check_price():\n",
    "    URL = 'https://www.amazon.ca/Apple-AirPods-Charging-Latest-Model/dp/B07PXGQC1Q/ref=zg_bs_680468011_3/133-5835539-1955852?pd_rd_i=B07PXGQC1Q&psc=1'\n",
    "\n",
    "    headers = {\n",
    "    'authority': 'www.amazon.ca',\n",
    "    'pragma': 'no-cache',\n",
    "    'cache-control': 'no-cache',\n",
    "    'dnt': '1',\n",
    "    'upgrade-insecure-requests': '1',\n",
    "    'user-agent': 'User-Agent\": \"Mozilla/5.0 (Macintosh; Intel Mac OS X 10_15_7) AppleWebKit/605.1.15 (KHTML, like Gecko) Version/15.5 Safari/605.1.15',\n",
    "    'accept': 'text/html,application/xhtml+xml,application/xml;q=0.9,image/webp,image/apng,*/*;q=0.8,application/signed-exchange;v=b3;q=0.9',\n",
    "    'sec-fetch-site': 'none',\n",
    "    'sec-fetch-mode': 'navigate',\n",
    "    'sec-fetch-dest': 'document',\n",
    "    'accept-language': 'en-GB,en-US;q=0.9,en;q=0.8',\n",
    "    }\n",
    "\n",
    "    page = requests.get(URL, headers=headers)\n",
    "    \n",
    "    soup1 = BeautifulSoup(page.content, 'html.parser')\n",
    "    soup2 = BeautifulSoup(soup1.prettify(), 'html.parser')\n",
    "    title = soup2.find(id='productTitle').get_text().strip()\n",
    "    price = float(soup2.find(attrs={\"class\": \"a-price-whole\"}).get_text().replace('.', '').strip())\n",
    "    \n",
    "    today = datetime.date.today()\n",
    "    \n",
    "    header = ['Title', 'Price', 'Date']\n",
    "    data = [title, price, today]\n",
    "    \n",
    "    # Appending data\n",
    "    with open('amazonwebscraper.csv', 'a+', newline='', encoding='UTF8') as f:\n",
    "        writer = csv.writer(f)\n",
    "        writer.writerow(data)\n",
    "    # Send mail if there's a promotion\n",
    "    if(price <= price*0.8):\n",
    "        send_mail()"
   ]
  },
  {
   "cell_type": "code",
   "execution_count": 9,
   "id": "2c1722bb",
   "metadata": {
    "scrolled": true
   },
   "outputs": [],
   "source": [
    "# while(True):\n",
    "#     check_price()\n",
    "#     time.sleep(86400)"
   ]
  },
  {
   "cell_type": "code",
   "execution_count": 10,
   "id": "c82a1877",
   "metadata": {},
   "outputs": [
    {
     "data": {
      "text/html": [
       "<div>\n",
       "<style scoped>\n",
       "    .dataframe tbody tr th:only-of-type {\n",
       "        vertical-align: middle;\n",
       "    }\n",
       "\n",
       "    .dataframe tbody tr th {\n",
       "        vertical-align: top;\n",
       "    }\n",
       "\n",
       "    .dataframe thead th {\n",
       "        text-align: right;\n",
       "    }\n",
       "</style>\n",
       "<table border=\"1\" class=\"dataframe\">\n",
       "  <thead>\n",
       "    <tr style=\"text-align: right;\">\n",
       "      <th></th>\n",
       "      <th>Title</th>\n",
       "      <th>Price</th>\n",
       "      <th>Date</th>\n",
       "    </tr>\n",
       "  </thead>\n",
       "  <tbody>\n",
       "    <tr>\n",
       "      <th>0</th>\n",
       "      <td>Apple AirPods (2nd Generation) Wireless Earbud...</td>\n",
       "      <td>148.0</td>\n",
       "      <td>2022-07-07</td>\n",
       "    </tr>\n",
       "  </tbody>\n",
       "</table>\n",
       "</div>"
      ],
      "text/plain": [
       "                                               Title  Price        Date\n",
       "0  Apple AirPods (2nd Generation) Wireless Earbud...  148.0  2022-07-07"
      ]
     },
     "execution_count": 10,
     "metadata": {},
     "output_type": "execute_result"
    }
   ],
   "source": [
    "import pandas as pd\n",
    "df = pd.read_csv('/Users/tindang17/projects/jupyter-notebook/amazonwebscraper.csv')\n",
    "df.head()"
   ]
  },
  {
   "cell_type": "code",
   "execution_count": 11,
   "id": "03f29c86",
   "metadata": {},
   "outputs": [],
   "source": [
    "def send_mail():\n",
    "    server = smtplib.SMTP_SSL('smtp.gmail.com', 465)\n",
    "    server.ehlo()\n",
    "    server.login('a@gmail.com', 'app password')\n",
    "    \n",
    "    subject = 'Hot deal!'\n",
    "    body = \"The product that you're interested has reduced in price\"\n",
    "    \n",
    "    msg = f'Subject: {subject}\\n\\n{body}'\n",
    "    \n",
    "    server.sendmail(\n",
    "        'a@gmail.com',\n",
    "        'a@gmail.com',\n",
    "        msg\n",
    "    )"
   ]
  },
  {
   "cell_type": "code",
   "execution_count": 30,
   "id": "b656b97a",
   "metadata": {},
   "outputs": [],
   "source": []
  },
  {
   "cell_type": "code",
   "execution_count": null,
   "id": "11714436",
   "metadata": {},
   "outputs": [],
   "source": []
  }
 ],
 "metadata": {
  "kernelspec": {
   "display_name": "Python 3 (ipykernel)",
   "language": "python",
   "name": "python3"
  },
  "language_info": {
   "codemirror_mode": {
    "name": "ipython",
    "version": 3
   },
   "file_extension": ".py",
   "mimetype": "text/x-python",
   "name": "python",
   "nbconvert_exporter": "python",
   "pygments_lexer": "ipython3",
   "version": "3.9.7"
  }
 },
 "nbformat": 4,
 "nbformat_minor": 5
}
